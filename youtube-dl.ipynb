{
 "cells": [
  {
   "cell_type": "code",
   "execution_count": 7,
   "metadata": {},
   "outputs": [],
   "source": [
    "from IPython.display import Video, display\n",
    "import youtube_dl\n",
    "import os"
   ]
  },
  {
   "cell_type": "code",
   "execution_count": null,
   "metadata": {},
   "outputs": [],
   "source": [
    "url='https://www.youtube.com/watch?v=kQbbCv8xsQM'\n",
    "\n",
    "if globals().get('filename') and os.path.exists(filename):\n",
    "    os.remove(filename)\n",
    "ydl_opts = {'outtmpl': '%(title)s.%(ext)s'}\n",
    "\n",
    "\n",
    "with youtube_dl.YoutubeDL(ydl_opts) as ydl:\n",
    "#     x=ydl.download([url])\n",
    "    info=ydl.extract_info(url, download=True)\n",
    "    filename = '.'.join([info['title'],info['ext']])\n",
    "\n",
    "Video(filename, width=985, html_attributes=\"controls autoplay\")"
   ]
  },
  {
   "cell_type": "code",
   "execution_count": 18,
   "metadata": {},
   "outputs": [
    {
     "data": {
      "text/html": [
       "<div>\n",
       "<style scoped>\n",
       "    .dataframe tbody tr th:only-of-type {\n",
       "        vertical-align: middle;\n",
       "    }\n",
       "\n",
       "    .dataframe tbody tr th {\n",
       "        vertical-align: top;\n",
       "    }\n",
       "\n",
       "    .dataframe thead th {\n",
       "        text-align: right;\n",
       "    }\n",
       "</style>\n",
       "<table border=\"1\" class=\"dataframe\">\n",
       "  <thead>\n",
       "    <tr style=\"text-align: right;\">\n",
       "      <th></th>\n",
       "      <th>url</th>\n",
       "      <th>width</th>\n",
       "      <th>height</th>\n",
       "      <th>resolution</th>\n",
       "      <th>id</th>\n",
       "    </tr>\n",
       "  </thead>\n",
       "  <tbody>\n",
       "    <tr>\n",
       "      <th>0</th>\n",
       "      <td>https://i.ytimg.com/vi/kQbbCv8xsQM/hqdefault.j...</td>\n",
       "      <td>168</td>\n",
       "      <td>94</td>\n",
       "      <td>168x94</td>\n",
       "      <td>0</td>\n",
       "    </tr>\n",
       "    <tr>\n",
       "      <th>1</th>\n",
       "      <td>https://i.ytimg.com/vi/kQbbCv8xsQM/hqdefault.j...</td>\n",
       "      <td>196</td>\n",
       "      <td>110</td>\n",
       "      <td>196x110</td>\n",
       "      <td>1</td>\n",
       "    </tr>\n",
       "    <tr>\n",
       "      <th>2</th>\n",
       "      <td>https://i.ytimg.com/vi/kQbbCv8xsQM/hqdefault.j...</td>\n",
       "      <td>246</td>\n",
       "      <td>138</td>\n",
       "      <td>246x138</td>\n",
       "      <td>2</td>\n",
       "    </tr>\n",
       "    <tr>\n",
       "      <th>3</th>\n",
       "      <td>https://i.ytimg.com/vi/kQbbCv8xsQM/hqdefault.j...</td>\n",
       "      <td>336</td>\n",
       "      <td>188</td>\n",
       "      <td>336x188</td>\n",
       "      <td>3</td>\n",
       "    </tr>\n",
       "    <tr>\n",
       "      <th>4</th>\n",
       "      <td>https://i.ytimg.com/vi/kQbbCv8xsQM/maxresdefau...</td>\n",
       "      <td>1920</td>\n",
       "      <td>1080</td>\n",
       "      <td>1920x1080</td>\n",
       "      <td>4</td>\n",
       "    </tr>\n",
       "  </tbody>\n",
       "</table>\n",
       "</div>"
      ],
      "text/plain": [
       "                                                 url  width  height  \\\n",
       "0  https://i.ytimg.com/vi/kQbbCv8xsQM/hqdefault.j...    168      94   \n",
       "1  https://i.ytimg.com/vi/kQbbCv8xsQM/hqdefault.j...    196     110   \n",
       "2  https://i.ytimg.com/vi/kQbbCv8xsQM/hqdefault.j...    246     138   \n",
       "3  https://i.ytimg.com/vi/kQbbCv8xsQM/hqdefault.j...    336     188   \n",
       "4  https://i.ytimg.com/vi/kQbbCv8xsQM/maxresdefau...   1920    1080   \n",
       "\n",
       "  resolution id  \n",
       "0     168x94  0  \n",
       "1    196x110  1  \n",
       "2    246x138  2  \n",
       "3    336x188  3  \n",
       "4  1920x1080  4  "
      ]
     },
     "execution_count": 18,
     "metadata": {},
     "output_type": "execute_result"
    }
   ],
   "source": [
    "import pandas as pd\n",
    "\n",
    "pd.DataFrame(info['thumbnails'])"
   ]
  },
  {
   "cell_type": "code",
   "execution_count": 19,
   "metadata": {},
   "outputs": [
    {
     "data": {
      "text/plain": [
       "'315 - 3840x1920 (2160p50)+251 - audio only (tiny)'"
      ]
     },
     "execution_count": 19,
     "metadata": {},
     "output_type": "execute_result"
    }
   ],
   "source": [
    "info['format']"
   ]
  }
 ],
 "metadata": {
  "kernelspec": {
   "display_name": "Python 3",
   "language": "python",
   "name": "python3"
  },
  "language_info": {
   "codemirror_mode": {
    "name": "ipython",
    "version": 3
   },
   "file_extension": ".py",
   "mimetype": "text/x-python",
   "name": "python",
   "nbconvert_exporter": "python",
   "pygments_lexer": "ipython3",
   "version": "3.8.4"
  }
 },
 "nbformat": 4,
 "nbformat_minor": 4
}
