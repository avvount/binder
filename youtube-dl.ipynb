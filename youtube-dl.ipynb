{
 "cells": [
  {
   "cell_type": "code",
   "execution_count": 7,
   "metadata": {},
   "outputs": [],
   "source": [
    "from IPython.display import Video, display, HTML\n",
    "import youtube_dl\n",
    "import os"
   ]
  },
  {
   "cell_type": "code",
   "execution_count": null,
   "metadata": {},
   "outputs": [],
   "source": [
    "if globals().get('filename') and os.path.exists(filename):\n",
    "    os.remove(filename)\n",
    "    \n",
    "def progress_hooks(d):\n",
    "    # 重命名下载的视频名称的钩子\n",
    "    if d['status'] == 'finished':\n",
    "        globals()['filename'] = d['filename']\n",
    "#         print(f\"{d['filename']} 下载完成\")\n",
    "\n",
    "url='https://www.youtube.com/watch?v=JFHXMqm_Iwc'\n",
    "ydl_opts = {\n",
    "    'outtmpl': '%(title)s.%(ext)s',\n",
    "    'progress_hooks': [progress_hooks]\n",
    "}\n",
    "\n",
    "def filter_width(url, ydl_opts):\n",
    "    with youtube_dl.YoutubeDL(ydl_opts) as ydl:\n",
    "        info = ydl.extract_info(url, download=False)\n",
    "        for ele in info['formats']:\n",
    "            if ele['acodec'] != 'none' and ele['vcodec'] != 'none' and ele['height'] and 480 <= ele['height'] <= 1080:\n",
    "                ydl_opts['format'] = ele['format_id']\n",
    "                return ydl_opts\n",
    "\n",
    "def download(url, ydl_opts):\n",
    "    with youtube_dl.YoutubeDL(ydl_opts) as ydl:\n",
    "        info = ydl.extract_info(url, download=True)\n",
    "        globals()['info']=info\n",
    "        x=ydl.download([url])  \n",
    "\n",
    "def play():\n",
    "    # Video(filename, width=985, html_attributes=\"controls autoplay\")\n",
    "    return HTML(data='''\n",
    "    <video width=\"985\" controls autoplay>\n",
    "      <source src={0} type=\"video/mp4\">\n",
    "    </video>'''.format(filename))\n",
    "    \n",
    "download(url, filter_width(url, ydl_opts))\n",
    "play()"
   ]
  }
 ],
 "metadata": {
  "kernelspec": {
   "display_name": "Python 3",
   "language": "python",
   "name": "python3"
  },
  "language_info": {
   "codemirror_mode": {
    "name": "ipython",
    "version": 3
   },
   "file_extension": ".py",
   "mimetype": "text/x-python",
   "name": "python",
   "nbconvert_exporter": "python",
   "pygments_lexer": "ipython3",
   "version": "3.8.4"
  }
 },
 "nbformat": 4,
 "nbformat_minor": 4
}
