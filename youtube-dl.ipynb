{
 "cells": [
  {
   "cell_type": "code",
   "execution_count": 1,
   "metadata": {},
   "outputs": [],
   "source": [
    "from IPython.display import Video, display, HTML\n",
    "import youtube_dl\n",
    "import os"
   ]
  },
  {
   "cell_type": "code",
   "execution_count": 2,
   "metadata": {},
   "outputs": [],
   "source": [
    "class downloader(object):\n",
    "    def finished_hook(self, d):\n",
    "        # 重命名下载的视频名称的钩子\n",
    "        if d['status'] == 'finished':\n",
    "            self.filename = d['filename']\n",
    "    def __init__(self, url, height=None):\n",
    "        self.filename = ''\n",
    "        self.url = url\n",
    "        self.height = height\n",
    "        self.ydl_opts = {\n",
    "            'outtmpl': '%(title)s.%(ext)s',\n",
    "            'progress_hooks': [self.finished_hook]\n",
    "        }\n",
    "    def __del__(self):\n",
    "        if os.path.exists(self.filename):\n",
    "            os.remove(self.filename)\n",
    "\n",
    "    def request_info(self):\n",
    "        with youtube_dl.YoutubeDL(self.ydl_opts) as ydl:\n",
    "            self.info = ydl.extract_info(url, download=False)\n",
    "            if self.height is None:\n",
    "                return\n",
    "            for ele in self.info['formats']:\n",
    "                if ele['acodec'] != 'none' and ele['vcodec'] != 'none' and ele['height'] and ele['height'] == self.height:\n",
    "                    self.ydl_opts['format'] = ele['format_id']\n",
    "                    return\n",
    "            \n",
    "            raise ValueError('未找到指定分辨率视频')\n",
    "\n",
    "    def download(self):\n",
    "        self.request_info()\n",
    "        with youtube_dl.YoutubeDL(self.ydl_opts) as ydl:\n",
    "            self.info = ydl.extract_info(url, download=True)\n",
    "#             x=ydl.download([url])\n",
    "\n",
    "    def play(self):\n",
    "        try:\n",
    "            result = Video(self.filename, width=985, html_attributes=\"controls autoplay\")\n",
    "        except:\n",
    "            result = HTML(data='''\n",
    "                <video width=\"985\" controls autoplay>\n",
    "                  <source src={0} type=\"video/mp4\">\n",
    "                </video>'''.format(self.filename))\n",
    "        finally:\n",
    "            return result"
   ]
  },
  {
   "cell_type": "code",
   "execution_count": null,
   "metadata": {},
   "outputs": [
    {
     "name": "stdout",
     "output_type": "stream",
     "text": [
      "[youtube] 9zXZQkTaqqU: Downloading webpage\n",
      "[youtube] 9zXZQkTaqqU: Downloading webpage\n",
      "[download] Destination: 2020 10月14日苹果发布会 AK直播跟你聊iPhone 12发布会特邀嘉宾「亳毫Bohao」.mp4\n",
      "[download]  22.6% of 1.45GiB at 11.70MiB/s ETA 01:387"
     ]
    }
   ],
   "source": [
    "url='https://www.youtube.com/watch?v=9zXZQkTaqqU'\n",
    "m=downloader(url, 720)\n",
    "m.download()"
   ]
  },
  {
   "cell_type": "code",
   "execution_count": null,
   "metadata": {},
   "outputs": [],
   "source": [
    "m.play()"
   ]
  },
  {
   "cell_type": "code",
   "execution_count": null,
   "metadata": {},
   "outputs": [],
   "source": [
    "m.info['format']"
   ]
  }
 ],
 "metadata": {
  "kernelspec": {
   "display_name": "Python 3",
   "language": "python",
   "name": "python3"
  },
  "language_info": {
   "codemirror_mode": {
    "name": "ipython",
    "version": 3
   },
   "file_extension": ".py",
   "mimetype": "text/x-python",
   "name": "python",
   "nbconvert_exporter": "python",
   "pygments_lexer": "ipython3",
   "version": "3.8.4"
  }
 },
 "nbformat": 4,
 "nbformat_minor": 4
}
