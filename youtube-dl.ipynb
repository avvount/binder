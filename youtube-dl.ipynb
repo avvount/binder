{
 "cells": [
  {
   "cell_type": "code",
   "execution_count": 1,
   "metadata": {},
   "outputs": [],
   "source": [
    "from IPython.display import Video\n",
    "import youtube_dl\n",
    "import os"
   ]
  },
  {
   "cell_type": "code",
   "execution_count": null,
   "metadata": {},
   "outputs": [],
   "source": [
    "filename='file_path/file_name.mp4'\n",
    "if os.path.exists(filename):\n",
    "    os.remove(filename)\n",
    "ydl_opts = {'outtmpl': filename}\n",
    "url='https://www.youtube.com/watch?v=sqOjGuJ4WDo'\n",
    "\n",
    "with youtube_dl.YoutubeDL(ydl_opts) as ydl:\n",
    "    x=ydl.download([url])\n",
    "#     info=ydl.extract_info(url, download=True)\n",
    "# print(info)\n",
    "Video(filename, width=985,html_attributes=\"controls autoplay\")"
   ]
  }
 ],
 "metadata": {
  "kernelspec": {
   "display_name": "Python 3",
   "language": "python",
   "name": "python3"
  },
  "language_info": {
   "codemirror_mode": {
    "name": "ipython",
    "version": 3
   },
   "file_extension": ".py",
   "mimetype": "text/x-python",
   "name": "python",
   "nbconvert_exporter": "python",
   "pygments_lexer": "ipython3",
   "version": "3.7.8"
  }
 },
 "nbformat": 4,
 "nbformat_minor": 4
}
